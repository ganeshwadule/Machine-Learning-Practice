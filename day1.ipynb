{
  "nbformat": 4,
  "nbformat_minor": 0,
  "metadata": {
    "colab": {
      "provenance": [],
      "authorship_tag": "ABX9TyO6TK9M+6u6CCKGRqDAtQHx",
      "include_colab_link": true
    },
    "kernelspec": {
      "name": "python3",
      "display_name": "Python 3"
    },
    "language_info": {
      "name": "python"
    }
  },
  "cells": [
    {
      "cell_type": "markdown",
      "metadata": {
        "id": "view-in-github",
        "colab_type": "text"
      },
      "source": [
        "<a href=\"https://colab.research.google.com/github/ganeshwadule/Machine-Learning-Practice/blob/main/day1.ipynb\" target=\"_parent\"><img src=\"https://colab.research.google.com/assets/colab-badge.svg\" alt=\"Open In Colab\"/></a>"
      ]
    },
    {
      "cell_type": "code",
      "execution_count": 1,
      "metadata": {
        "colab": {
          "base_uri": "https://localhost:8080/"
        },
        "id": "f6AiPyz2BMZl",
        "outputId": "4901b92b-a9c7-4468-f2e4-7085d7b7b403"
      },
      "outputs": [
        {
          "output_type": "stream",
          "name": "stdout",
          "text": [
            "Hello World\n"
          ]
        }
      ],
      "source": [
        "print(\"Hello World\")"
      ]
    },
    {
      "cell_type": "code",
      "source": [
        "import numpy as np"
      ],
      "metadata": {
        "id": "Sm16g5dBBhs9"
      },
      "execution_count": 2,
      "outputs": []
    },
    {
      "cell_type": "code",
      "source": [
        "print(np.array(10))"
      ],
      "metadata": {
        "colab": {
          "base_uri": "https://localhost:8080/"
        },
        "id": "S-v0SkKUBlmz",
        "outputId": "05a3b068-1edc-4aab-e04a-491451a5a0d6"
      },
      "execution_count": 3,
      "outputs": [
        {
          "output_type": "stream",
          "name": "stdout",
          "text": [
            "10\n"
          ]
        }
      ]
    },
    {
      "cell_type": "code",
      "source": [
        "a = 5"
      ],
      "metadata": {
        "id": "kYQs9Z_PBptW"
      },
      "execution_count": 4,
      "outputs": []
    },
    {
      "cell_type": "code",
      "source": [
        "print(a)"
      ],
      "metadata": {
        "colab": {
          "base_uri": "https://localhost:8080/"
        },
        "id": "eQaXSk5gBt5D",
        "outputId": "ccf7d6a3-9705-4f92-fc99-21b7e42460c4"
      },
      "execution_count": 5,
      "outputs": [
        {
          "output_type": "stream",
          "name": "stdout",
          "text": [
            "5\n"
          ]
        }
      ]
    },
    {
      "cell_type": "code",
      "source": [
        "# prompt: build linear regression model using pytorch\n",
        "\n",
        "import torch\n",
        "import torch.nn as nn\n",
        "import numpy as np\n",
        "\n",
        "# Sample data (replace with your actual data)\n",
        "X = np.array([[1], [2], [3], [4], [5]], dtype=np.float32)\n",
        "y = np.array([[2], [4], [5], [4], [5]], dtype=np.float32)\n",
        "\n",
        "# Convert to PyTorch tensors\n",
        "X = torch.from_numpy(X)\n",
        "y = torch.from_numpy(y)\n",
        "\n",
        "# Define the linear regression model\n",
        "class LinearRegression(nn.Module):\n",
        "    def __init__(self, input_dim, output_dim):\n",
        "        super(LinearRegression, self).__init__()\n",
        "        self.linear = nn.Linear(input_dim, output_dim)\n",
        "\n",
        "    def forward(self, x):\n",
        "        return self.linear(x)\n",
        "\n",
        "# Create an instance of the model\n",
        "input_dim = 1\n",
        "output_dim = 1\n",
        "model = LinearRegression(input_dim, output_dim)\n",
        "\n",
        "# Define the loss function and optimizer\n",
        "criterion = nn.MSELoss()\n",
        "optimizer = torch.optim.SGD(model.parameters(), lr=0.01)\n",
        "\n",
        "# Training loop\n",
        "epochs = 1000\n",
        "for epoch in range(epochs):\n",
        "    # Forward pass\n",
        "    outputs = model(X)\n",
        "    loss = criterion(outputs, y)\n",
        "\n",
        "    # Backward pass and optimization\n",
        "    optimizer.zero_grad()\n",
        "    loss.backward()\n",
        "    optimizer.step()\n",
        "\n",
        "    if (epoch+1) % 100 == 0:\n",
        "        print(f'Epoch [{epoch+1}/{epochs}], Loss: {loss.item():.4f}')\n",
        "\n",
        "# Make predictions\n",
        "predicted = model(X).detach().numpy()\n",
        "print(\"Predicted values:\", predicted)\n",
        "\n",
        "# Print model parameters (slope and intercept)\n",
        "for name, param in model.named_parameters():\n",
        "    if param.requires_grad:\n",
        "        print(name, param.data)"
      ],
      "metadata": {
        "colab": {
          "base_uri": "https://localhost:8080/"
        },
        "id": "y82tpGlTBwoH",
        "outputId": "deb8ab5e-6332-4b5b-d421-00f16c60b64c"
      },
      "execution_count": 6,
      "outputs": [
        {
          "output_type": "stream",
          "name": "stdout",
          "text": [
            "Epoch [100/1000], Loss: 0.7609\n",
            "Epoch [200/1000], Loss: 0.6227\n",
            "Epoch [300/1000], Loss: 0.5525\n",
            "Epoch [400/1000], Loss: 0.5168\n",
            "Epoch [500/1000], Loss: 0.4987\n",
            "Epoch [600/1000], Loss: 0.4895\n",
            "Epoch [700/1000], Loss: 0.4848\n",
            "Epoch [800/1000], Loss: 0.4825\n",
            "Epoch [900/1000], Loss: 0.4812\n",
            "Epoch [1000/1000], Loss: 0.4806\n",
            "Predicted values: [[2.757525 ]\n",
            " [3.373797 ]\n",
            " [3.9900692]\n",
            " [4.6063414]\n",
            " [5.2226133]]\n",
            "linear.weight tensor([[0.6163]])\n",
            "linear.bias tensor([2.1413])\n"
          ]
        }
      ]
    }
  ]
}